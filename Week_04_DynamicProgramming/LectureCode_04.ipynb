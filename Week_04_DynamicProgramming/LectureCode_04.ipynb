{
 "cells": [
  {
   "cell_type": "markdown",
   "metadata": {},
   "source": [
    "# Dynamic Programming "
   ]
  },
  {
   "cell_type": "markdown",
   "metadata": {},
   "source": [
    "----"
   ]
  },
  {
   "cell_type": "markdown",
   "metadata": {},
   "source": [
    "## 1. Rob Cutting Problems"
   ]
  },
  {
   "cell_type": "markdown",
   "metadata": {},
   "source": [
    "![](https://github.com/pchen12567/picture_store/blob/master/AI_For_NLP/dynamic_p1.png?raw=true)"
   ]
  },
  {
   "cell_type": "code",
   "execution_count": 1,
   "metadata": {
    "ExecuteTime": {
     "end_time": "2019-04-25T06:44:54.972363Z",
     "start_time": "2019-04-25T06:44:54.968061Z"
    }
   },
   "outputs": [],
   "source": [
    "from collections import defaultdict"
   ]
  },
  {
   "cell_type": "code",
   "execution_count": 2,
   "metadata": {
    "ExecuteTime": {
     "end_time": "2019-04-25T06:44:54.979871Z",
     "start_time": "2019-04-25T06:44:54.975879Z"
    }
   },
   "outputs": [],
   "source": [
    "# Set each length price\n",
    "original_price = [1, 5, 8, 9, 10, 17, 17, 20, 24, 30]\n",
    "price = defaultdict(int)"
   ]
  },
  {
   "cell_type": "code",
   "execution_count": 3,
   "metadata": {
    "ExecuteTime": {
     "end_time": "2019-04-25T06:44:54.988867Z",
     "start_time": "2019-04-25T06:44:54.983064Z"
    }
   },
   "outputs": [],
   "source": [
    "for i, p in enumerate(original_price):\n",
    "    price[i + 1] = p"
   ]
  },
  {
   "cell_type": "code",
   "execution_count": 4,
   "metadata": {
    "ExecuteTime": {
     "end_time": "2019-04-25T06:44:54.996208Z",
     "start_time": "2019-04-25T06:44:54.991869Z"
    }
   },
   "outputs": [
    {
     "name": "stdout",
     "output_type": "stream",
     "text": [
      "dict_items([(1, 1), (2, 5), (3, 8), (4, 9), (5, 10), (6, 17), (7, 17), (8, 20), (9, 24), (10, 30)])\n"
     ]
    }
   ],
   "source": [
    "print(price.items())"
   ]
  },
  {
   "cell_type": "markdown",
   "metadata": {},
   "source": [
    "### Try to build solution by recursive"
   ]
  },
  {
   "cell_type": "markdown",
   "metadata": {},
   "source": [
    "![](https://github.com/pchen12567/picture_store/blob/master/AI_For_NLP/dynamic_p2.jpg?raw=true)"
   ]
  },
  {
   "cell_type": "code",
   "execution_count": 5,
   "metadata": {
    "ExecuteTime": {
     "end_time": "2019-04-25T06:44:55.004593Z",
     "start_time": "2019-04-25T06:44:54.999144Z"
    }
   },
   "outputs": [],
   "source": [
    "# Build solution by recursive\n",
    "def revenue(length):\n",
    "    return max(\n",
    "        [price[length]] + [revenue(i) + revenue(length - i) for i in range(1, length)]\n",
    "    )        "
   ]
  },
  {
   "cell_type": "code",
   "execution_count": 6,
   "metadata": {
    "ExecuteTime": {
     "end_time": "2019-04-25T06:44:58.725429Z",
     "start_time": "2019-04-25T06:44:55.008045Z"
    }
   },
   "outputs": [
    {
     "data": {
      "text/plain": [
       "43"
      ]
     },
     "execution_count": 6,
     "metadata": {},
     "output_type": "execute_result"
    }
   ],
   "source": [
    "revenue(15)"
   ]
  },
  {
   "cell_type": "markdown",
   "metadata": {},
   "source": [
    "#### Detail about function max() and lambda"
   ]
  },
  {
   "cell_type": "code",
   "execution_count": 7,
   "metadata": {
    "ExecuteTime": {
     "end_time": "2019-04-25T06:44:58.731090Z",
     "start_time": "2019-04-25T06:44:58.727603Z"
    }
   },
   "outputs": [],
   "source": [
    "import random"
   ]
  },
  {
   "cell_type": "code",
   "execution_count": 8,
   "metadata": {
    "ExecuteTime": {
     "end_time": "2019-04-25T06:44:58.739965Z",
     "start_time": "2019-04-25T06:44:58.735206Z"
    }
   },
   "outputs": [
    {
     "name": "stdout",
     "output_type": "stream",
     "text": [
      "[(0, 17), (1, 2), (2, 14), (3, 18), (4, 3), (5, -9), (6, -2), (7, 20), (8, 6), (9, 5)]\n"
     ]
    }
   ],
   "source": [
    "random.seed(0)\n",
    "random_numbers = [(i, random.randint(-10,20)) for i in range(10)]\n",
    "print(random_numbers)"
   ]
  },
  {
   "cell_type": "code",
   "execution_count": 9,
   "metadata": {
    "ExecuteTime": {
     "end_time": "2019-04-25T06:44:58.749676Z",
     "start_time": "2019-04-25T06:44:58.744133Z"
    }
   },
   "outputs": [
    {
     "data": {
      "text/plain": [
       "(7, 20)"
      ]
     },
     "execution_count": 9,
     "metadata": {},
     "output_type": "execute_result"
    }
   ],
   "source": [
    "max(random_numbers, key=lambda x: x[1])"
   ]
  },
  {
   "cell_type": "markdown",
   "metadata": {},
   "source": [
    "### Optimize function to get solution"
   ]
  },
  {
   "cell_type": "code",
   "execution_count": 10,
   "metadata": {
    "ExecuteTime": {
     "end_time": "2019-04-25T06:44:58.755977Z",
     "start_time": "2019-04-25T06:44:58.752093Z"
    }
   },
   "outputs": [],
   "source": [
    "# Init solution dictionary\n",
    "solution = {}\n",
    "# for a given length N, we set the corresponding split parts\n",
    "# solution = {\n",
    "#     4: (2, 2)\n",
    "# }"
   ]
  },
  {
   "cell_type": "code",
   "execution_count": 11,
   "metadata": {
    "ExecuteTime": {
     "end_time": "2019-04-25T06:44:58.764492Z",
     "start_time": "2019-04-25T06:44:58.758803Z"
    }
   },
   "outputs": [],
   "source": [
    "def optimize_revenue(length):\n",
    "    max_price, split_point = max(\n",
    "        [(price[length], 0)] +\n",
    "        [(optimize_revenue(i) + optimize_revenue(length - i), i) for i in range(1, length)], key=lambda x: x[0]\n",
    "    )\n",
    "    solution[length] = (split_point, length - split_point)\n",
    "    \n",
    "    return max_price"
   ]
  },
  {
   "cell_type": "code",
   "execution_count": 12,
   "metadata": {
    "ExecuteTime": {
     "end_time": "2019-04-25T06:45:05.169510Z",
     "start_time": "2019-04-25T06:44:58.767391Z"
    }
   },
   "outputs": [
    {
     "data": {
      "text/plain": [
       "43"
      ]
     },
     "execution_count": 12,
     "metadata": {},
     "output_type": "execute_result"
    }
   ],
   "source": [
    "optimize_revenue(15)"
   ]
  },
  {
   "cell_type": "code",
   "execution_count": 13,
   "metadata": {
    "ExecuteTime": {
     "end_time": "2019-04-25T06:45:05.176318Z",
     "start_time": "2019-04-25T06:45:05.171446Z"
    }
   },
   "outputs": [
    {
     "data": {
      "text/plain": [
       "{1: (0, 1),\n",
       " 2: (0, 2),\n",
       " 3: (0, 3),\n",
       " 4: (2, 2),\n",
       " 5: (2, 3),\n",
       " 6: (0, 6),\n",
       " 7: (1, 6),\n",
       " 8: (2, 6),\n",
       " 9: (3, 6),\n",
       " 10: (0, 10),\n",
       " 11: (1, 10),\n",
       " 12: (2, 10),\n",
       " 13: (3, 10),\n",
       " 14: (2, 12),\n",
       " 15: (2, 13)}"
      ]
     },
     "execution_count": 13,
     "metadata": {},
     "output_type": "execute_result"
    }
   ],
   "source": [
    "solution"
   ]
  },
  {
   "cell_type": "markdown",
   "metadata": {},
   "source": [
    "### Build function to parse solution"
   ]
  },
  {
   "cell_type": "markdown",
   "metadata": {},
   "source": [
    "Check the solution step by step"
   ]
  },
  {
   "cell_type": "code",
   "execution_count": 14,
   "metadata": {
    "ExecuteTime": {
     "end_time": "2019-04-25T06:45:05.183587Z",
     "start_time": "2019-04-25T06:45:05.178923Z"
    }
   },
   "outputs": [
    {
     "data": {
      "text/plain": [
       "(2, 13)"
      ]
     },
     "execution_count": 14,
     "metadata": {},
     "output_type": "execute_result"
    }
   ],
   "source": [
    "# Step 1\n",
    "solution[15] # cut to 2 and 16"
   ]
  },
  {
   "cell_type": "code",
   "execution_count": 15,
   "metadata": {
    "ExecuteTime": {
     "end_time": "2019-04-25T06:45:05.191489Z",
     "start_time": "2019-04-25T06:45:05.186454Z"
    }
   },
   "outputs": [
    {
     "data": {
      "text/plain": [
       "(0, 2)"
      ]
     },
     "execution_count": 15,
     "metadata": {},
     "output_type": "execute_result"
    }
   ],
   "source": [
    "# Step 2\n",
    "solution[2] # no cut, keep 2"
   ]
  },
  {
   "cell_type": "code",
   "execution_count": 16,
   "metadata": {
    "ExecuteTime": {
     "end_time": "2019-04-25T06:45:05.199245Z",
     "start_time": "2019-04-25T06:45:05.193897Z"
    }
   },
   "outputs": [
    {
     "data": {
      "text/plain": [
       "(3, 10)"
      ]
     },
     "execution_count": 16,
     "metadata": {},
     "output_type": "execute_result"
    }
   ],
   "source": [
    "# Step 3\n",
    "solution[13] # cut to 3 and 10"
   ]
  },
  {
   "cell_type": "code",
   "execution_count": 17,
   "metadata": {
    "ExecuteTime": {
     "end_time": "2019-04-25T06:45:05.207773Z",
     "start_time": "2019-04-25T06:45:05.202188Z"
    }
   },
   "outputs": [
    {
     "data": {
      "text/plain": [
       "(0, 3)"
      ]
     },
     "execution_count": 17,
     "metadata": {},
     "output_type": "execute_result"
    }
   ],
   "source": [
    "# Step 4\n",
    "solution[3] # not cut, keep 3"
   ]
  },
  {
   "cell_type": "code",
   "execution_count": 18,
   "metadata": {
    "ExecuteTime": {
     "end_time": "2019-04-25T06:45:05.226978Z",
     "start_time": "2019-04-25T06:45:05.210241Z"
    }
   },
   "outputs": [
    {
     "data": {
      "text/plain": [
       "(0, 10)"
      ]
     },
     "execution_count": 18,
     "metadata": {},
     "output_type": "execute_result"
    }
   ],
   "source": [
    "# Step 5\n",
    "solution[10] # not cut, keep 10"
   ]
  },
  {
   "cell_type": "code",
   "execution_count": 19,
   "metadata": {
    "ExecuteTime": {
     "end_time": "2019-04-25T06:45:05.237361Z",
     "start_time": "2019-04-25T06:45:05.231348Z"
    }
   },
   "outputs": [],
   "source": [
    "def parse_solution(length, solution):\n",
    "    left, right = solution[length]\n",
    "    \n",
    "    if left == 0: return [right]\n",
    "    \n",
    "    return [left] + parse_solution(right, solution)"
   ]
  },
  {
   "cell_type": "code",
   "execution_count": 20,
   "metadata": {
    "ExecuteTime": {
     "end_time": "2019-04-25T06:45:05.252787Z",
     "start_time": "2019-04-25T06:45:05.241586Z"
    }
   },
   "outputs": [
    {
     "data": {
      "text/plain": [
       "[2, 3, 10]"
      ]
     },
     "execution_count": 20,
     "metadata": {},
     "output_type": "execute_result"
    }
   ],
   "source": [
    "parse_solution(15, solution)"
   ]
  },
  {
   "cell_type": "markdown",
   "metadata": {},
   "source": [
    "### Decorator"
   ]
  },
  {
   "cell_type": "markdown",
   "metadata": {},
   "source": [
    "#### Detail about decorator"
   ]
  },
  {
   "cell_type": "code",
   "execution_count": 21,
   "metadata": {
    "ExecuteTime": {
     "end_time": "2019-04-25T06:45:05.263049Z",
     "start_time": "2019-04-25T06:45:05.256166Z"
    }
   },
   "outputs": [],
   "source": [
    "import time"
   ]
  },
  {
   "cell_type": "code",
   "execution_count": 22,
   "metadata": {
    "ExecuteTime": {
     "end_time": "2019-04-25T06:45:05.281238Z",
     "start_time": "2019-04-25T06:45:05.271891Z"
    }
   },
   "outputs": [],
   "source": [
    "def call_time(func, arg):\n",
    "    start = time.time()\n",
    "    func(arg)\n",
    "    print('New feature, {} Cost time: {}'.format(func.__name__, time.time() - start))"
   ]
  },
  {
   "cell_type": "code",
   "execution_count": 23,
   "metadata": {
    "ExecuteTime": {
     "end_time": "2019-04-25T06:45:05.288530Z",
     "start_time": "2019-04-25T06:45:05.284678Z"
    }
   },
   "outputs": [],
   "source": [
    "def func_normal(n):\n",
    "    for i in range(n):\n",
    "        print(i)"
   ]
  },
  {
   "cell_type": "code",
   "execution_count": 24,
   "metadata": {
    "ExecuteTime": {
     "end_time": "2019-04-25T06:45:05.300341Z",
     "start_time": "2019-04-25T06:45:05.291381Z"
    }
   },
   "outputs": [
    {
     "name": "stdout",
     "output_type": "stream",
     "text": [
      "0\n",
      "1\n",
      "2\n",
      "3\n",
      "4\n"
     ]
    }
   ],
   "source": [
    "func_normal(5)"
   ]
  },
  {
   "cell_type": "code",
   "execution_count": 25,
   "metadata": {
    "ExecuteTime": {
     "end_time": "2019-04-25T06:45:05.313958Z",
     "start_time": "2019-04-25T06:45:05.305799Z"
    }
   },
   "outputs": [
    {
     "name": "stdout",
     "output_type": "stream",
     "text": [
      "0\n",
      "1\n",
      "2\n",
      "3\n",
      "4\n",
      "New feature, func_normal Cost time: 0.002274036407470703\n"
     ]
    }
   ],
   "source": [
    "call_time(func_normal, 5)"
   ]
  },
  {
   "cell_type": "code",
   "execution_count": 26,
   "metadata": {
    "ExecuteTime": {
     "end_time": "2019-04-25T06:45:05.323231Z",
     "start_time": "2019-04-25T06:45:05.317104Z"
    }
   },
   "outputs": [],
   "source": [
    "def func_slow(n):\n",
    "    for i in range(n):\n",
    "        time.sleep(0.5)\n",
    "        print(i)"
   ]
  },
  {
   "cell_type": "code",
   "execution_count": 27,
   "metadata": {
    "ExecuteTime": {
     "end_time": "2019-04-25T06:45:07.847428Z",
     "start_time": "2019-04-25T06:45:05.326115Z"
    }
   },
   "outputs": [
    {
     "name": "stdout",
     "output_type": "stream",
     "text": [
      "0\n",
      "1\n",
      "2\n",
      "3\n",
      "4\n"
     ]
    }
   ],
   "source": [
    "func_slow(5)"
   ]
  },
  {
   "cell_type": "code",
   "execution_count": 28,
   "metadata": {
    "ExecuteTime": {
     "end_time": "2019-04-25T06:45:10.373336Z",
     "start_time": "2019-04-25T06:45:07.852507Z"
    }
   },
   "outputs": [
    {
     "name": "stdout",
     "output_type": "stream",
     "text": [
      "0\n",
      "1\n",
      "2\n",
      "3\n",
      "4\n",
      "New feature, func_slow Cost time: 2.514373302459717\n"
     ]
    }
   ],
   "source": [
    "call_time(func_slow, 5)"
   ]
  },
  {
   "cell_type": "code",
   "execution_count": 29,
   "metadata": {
    "ExecuteTime": {
     "end_time": "2019-04-25T06:45:10.383840Z",
     "start_time": "2019-04-25T06:45:10.378476Z"
    }
   },
   "outputs": [],
   "source": [
    "def get_call_time(func):\n",
    "    def _wrap(*args, **kwargs):\n",
    "        start = time.time()\n",
    "        result = func(*args, **kwargs)\n",
    "        print('New feature, {} Cost time: {}'.format(func.__name__, time.time() - start))\n",
    "        return result\n",
    "    return _wrap"
   ]
  },
  {
   "cell_type": "code",
   "execution_count": 30,
   "metadata": {
    "ExecuteTime": {
     "end_time": "2019-04-25T06:45:10.391047Z",
     "start_time": "2019-04-25T06:45:10.386717Z"
    }
   },
   "outputs": [
    {
     "name": "stdout",
     "output_type": "stream",
     "text": [
      "<function get_call_time.<locals>._wrap at 0x111dab378>\n"
     ]
    }
   ],
   "source": [
    "func_wrap = get_call_time(func_normal) # => @ decorator\n",
    "print(func_wrap)"
   ]
  },
  {
   "cell_type": "code",
   "execution_count": 31,
   "metadata": {
    "ExecuteTime": {
     "end_time": "2019-04-25T06:45:10.398503Z",
     "start_time": "2019-04-25T06:45:10.393958Z"
    }
   },
   "outputs": [
    {
     "name": "stdout",
     "output_type": "stream",
     "text": [
      "0\n",
      "1\n",
      "2\n",
      "3\n",
      "4\n",
      "New feature, func_normal Cost time: 0.0002980232238769531\n"
     ]
    }
   ],
   "source": [
    "func_wrap(5)"
   ]
  },
  {
   "cell_type": "markdown",
   "metadata": {},
   "source": [
    "**With decorator**"
   ]
  },
  {
   "cell_type": "code",
   "execution_count": 32,
   "metadata": {
    "ExecuteTime": {
     "end_time": "2019-04-25T06:45:10.407940Z",
     "start_time": "2019-04-25T06:45:10.401486Z"
    }
   },
   "outputs": [
    {
     "name": "stdout",
     "output_type": "stream",
     "text": [
      "0\n",
      "1\n",
      "2\n",
      "3\n",
      "4\n",
      "New feature, func_1 Cost time: 0.00026106834411621094\n"
     ]
    }
   ],
   "source": [
    "@get_call_time\n",
    "def func_1(n):\n",
    "    for i in range(n):\n",
    "        print(i)\n",
    "\n",
    "func_1(5)"
   ]
  },
  {
   "cell_type": "markdown",
   "metadata": {},
   "source": [
    "Equals:<br>\n",
    "`func_1 = get_call_time(func_1) => func_1 = _wrap(*args, **kwargs)`<br>\n",
    "`func_1(5) => _wrap(5)`"
   ]
  },
  {
   "cell_type": "markdown",
   "metadata": {},
   "source": [
    "**Without decorator**"
   ]
  },
  {
   "cell_type": "code",
   "execution_count": 33,
   "metadata": {
    "ExecuteTime": {
     "end_time": "2019-04-25T06:45:10.423575Z",
     "start_time": "2019-04-25T06:45:10.415411Z"
    }
   },
   "outputs": [
    {
     "name": "stdout",
     "output_type": "stream",
     "text": [
      "0\n",
      "1\n",
      "2\n",
      "3\n",
      "4\n"
     ]
    }
   ],
   "source": [
    "# @get_call_time\n",
    "def func_1(n):\n",
    "    for i in range(n):\n",
    "        print(i)\n",
    "\n",
    "func_1(5)"
   ]
  },
  {
   "cell_type": "markdown",
   "metadata": {},
   "source": [
    "#### Implement decorator"
   ]
  },
  {
   "cell_type": "code",
   "execution_count": 34,
   "metadata": {
    "ExecuteTime": {
     "end_time": "2019-04-25T06:45:10.430145Z",
     "start_time": "2019-04-25T06:45:10.426249Z"
    }
   },
   "outputs": [],
   "source": [
    "from functools import wraps"
   ]
  },
  {
   "cell_type": "code",
   "execution_count": 35,
   "metadata": {
    "ExecuteTime": {
     "end_time": "2019-04-25T06:45:10.441764Z",
     "start_time": "2019-04-25T06:45:10.432813Z"
    }
   },
   "outputs": [],
   "source": [
    "def memo(func):\n",
    "    cache = {}\n",
    "    @wraps(func)\n",
    "    def _wrap(*args, **kwargs):\n",
    "        str_param = str(args) + str(kwargs)\n",
    "        \n",
    "        if str_param not in cache:\n",
    "            result = func(*args, **kwargs)\n",
    "            cache[str_param] = result\n",
    "            \n",
    "        return cache[str_param]\n",
    "    \n",
    "    return _wrap"
   ]
  },
  {
   "cell_type": "code",
   "execution_count": 36,
   "metadata": {
    "ExecuteTime": {
     "end_time": "2019-04-25T06:45:10.453878Z",
     "start_time": "2019-04-25T06:45:10.446745Z"
    }
   },
   "outputs": [],
   "source": [
    "@memo\n",
    "def optimize_revenue(length):\n",
    "    max_price, split_point = max(\n",
    "        [(price[length], 0)] +\n",
    "        [(optimize_revenue(i) + optimize_revenue(length - i), i) for i in range(1, length)], key=lambda x: x[0]\n",
    "    )\n",
    "    solution[length] = (split_point, length - split_point)\n",
    "    \n",
    "    return max_price"
   ]
  },
  {
   "cell_type": "code",
   "execution_count": 37,
   "metadata": {
    "ExecuteTime": {
     "end_time": "2019-04-25T06:45:10.469201Z",
     "start_time": "2019-04-25T06:45:10.456481Z"
    }
   },
   "outputs": [
    {
     "data": {
      "text/plain": [
       "218"
      ]
     },
     "execution_count": 37,
     "metadata": {},
     "output_type": "execute_result"
    }
   ],
   "source": [
    "optimize_revenue(73)"
   ]
  },
  {
   "cell_type": "code",
   "execution_count": 38,
   "metadata": {
    "ExecuteTime": {
     "end_time": "2019-04-25T06:45:10.477357Z",
     "start_time": "2019-04-25T06:45:10.471707Z"
    }
   },
   "outputs": [
    {
     "data": {
      "text/plain": [
       "[3, 10, 10, 10, 10, 10, 10, 10]"
      ]
     },
     "execution_count": 38,
     "metadata": {},
     "output_type": "execute_result"
    }
   ],
   "source": [
    "parse_solution(73, solution)"
   ]
  },
  {
   "cell_type": "markdown",
   "metadata": {},
   "source": [
    "### Dynamic Programming Summary"
   ]
  },
  {
   "cell_type": "markdown",
   "metadata": {},
   "source": [
    "不断查表的意思\n",
    "\n",
    "- 分析子问题的重复性\n",
    "- 子问题进行存储\n",
    "- Solution 要进行解析"
   ]
  },
  {
   "cell_type": "markdown",
   "metadata": {},
   "source": [
    "----"
   ]
  },
  {
   "cell_type": "markdown",
   "metadata": {},
   "source": [
    "## 2. Edit Distance"
   ]
  },
  {
   "cell_type": "markdown",
   "metadata": {},
   "source": [
    "编辑距离的定义是：从字符串A到字符串B，中间需要的最少操作权重。这里的操作权重一般是：\n",
    "\n",
    "- 删除一个字符(deletion)： 删除A末尾一个字符\n",
    "- 插入一个字符(insertion)： 将B末尾一个字符插入到A末尾\n",
    "- 替换一个字符(substitution)： 将A末尾的一个字符替换成B末尾的一个字符\n",
    "\n",
    "- 他们的权重都是1"
   ]
  },
  {
   "cell_type": "markdown",
   "metadata": {},
   "source": [
    "### Min Edit Distance Definition (Levenshtein)"
   ]
  },
  {
   "cell_type": "markdown",
   "metadata": {},
   "source": [
    "Given two words word1 and word2, find the minimum number of steps required to convert word1 to word2. \n",
    "\n",
    "Having the following 3 operations permitted on a word:\n",
    "\n",
    "1. Insertion => cost = 1\n",
    "2. Deletion => cost = 1\n",
    "3. Substitution => cost = 2"
   ]
  },
  {
   "cell_type": "markdown",
   "metadata": {},
   "source": [
    "### Min Edit Distance Algorithm"
   ]
  },
  {
   "cell_type": "markdown",
   "metadata": {},
   "source": [
    "- For two strings\n",
    "    - X of length n\n",
    "    - Y of length m \n",
    "<br><br>\n",
    "- We define D(i, j)\n",
    "    - The edit distance between X[1…i] and Y[1..j]\n",
    "<br><br>\n",
    "- The edit distance between X and Y is thus D(n, m)"
   ]
  },
  {
   "cell_type": "markdown",
   "metadata": {},
   "source": [
    "![](https://github.com/pchen12567/picture_store/blob/master/AI_For_NLP/dynamic_p3.jpg?raw=true)"
   ]
  },
  {
   "cell_type": "code",
   "execution_count": 39,
   "metadata": {
    "ExecuteTime": {
     "end_time": "2019-04-25T06:45:10.485962Z",
     "start_time": "2019-04-25T06:45:10.479630Z"
    }
   },
   "outputs": [],
   "source": [
    "@memo\n",
    "def get_edit_distance(string1, string2):\n",
    "    \n",
    "    if len(string1) == 0: return len(string2)\n",
    "    if len(string2) == 0: return len(string1)\n",
    "    \n",
    "    return min(\n",
    "        [get_edit_distance(string1[:-1], string2) + 1, \n",
    "         get_edit_distance(string1, string2[:-1]) + 1, \n",
    "         get_edit_distance(string1[:-1], string2[:-1]) + (0 if string1[-1] == string2[-1] else 2)]\n",
    "    )"
   ]
  },
  {
   "cell_type": "code",
   "execution_count": 40,
   "metadata": {
    "ExecuteTime": {
     "end_time": "2019-04-25T06:45:10.495900Z",
     "start_time": "2019-04-25T06:45:10.488603Z"
    }
   },
   "outputs": [
    {
     "data": {
      "text/plain": [
       "2"
      ]
     },
     "execution_count": 40,
     "metadata": {},
     "output_type": "execute_result"
    }
   ],
   "source": [
    "get_edit_distance('biejing', 'beijing') # Del Ins"
   ]
  },
  {
   "cell_type": "code",
   "execution_count": 41,
   "metadata": {
    "ExecuteTime": {
     "end_time": "2019-04-25T06:45:10.509396Z",
     "start_time": "2019-04-25T06:45:10.499703Z"
    }
   },
   "outputs": [
    {
     "data": {
      "text/plain": [
       "5"
      ]
     },
     "execution_count": 41,
     "metadata": {},
     "output_type": "execute_result"
    }
   ],
   "source": [
    "get_edit_distance('biejing', 'beijie') # Del Ins Sub Del"
   ]
  },
  {
   "cell_type": "code",
   "execution_count": 42,
   "metadata": {
    "ExecuteTime": {
     "end_time": "2019-04-25T06:45:10.522711Z",
     "start_time": "2019-04-25T06:45:10.515337Z"
    }
   },
   "outputs": [
    {
     "data": {
      "text/plain": [
       "3"
      ]
     },
     "execution_count": 42,
     "metadata": {},
     "output_type": "execute_result"
    }
   ],
   "source": [
    "get_edit_distance('biejing', 'beijin') # Del Ins Del"
   ]
  },
  {
   "cell_type": "markdown",
   "metadata": {},
   "source": [
    "# Solution Parse"
   ]
  },
  {
   "cell_type": "code",
   "execution_count": null,
   "metadata": {},
   "outputs": [],
   "source": []
  },
  {
   "cell_type": "code",
   "execution_count": null,
   "metadata": {},
   "outputs": [],
   "source": []
  },
  {
   "cell_type": "code",
   "execution_count": null,
   "metadata": {},
   "outputs": [],
   "source": []
  },
  {
   "cell_type": "code",
   "execution_count": null,
   "metadata": {},
   "outputs": [],
   "source": []
  }
 ],
 "metadata": {
  "kernelspec": {
   "display_name": "Python 3",
   "language": "python",
   "name": "python3"
  },
  "language_info": {
   "codemirror_mode": {
    "name": "ipython",
    "version": 3
   },
   "file_extension": ".py",
   "mimetype": "text/x-python",
   "name": "python",
   "nbconvert_exporter": "python",
   "pygments_lexer": "ipython3",
   "version": "3.7.2"
  },
  "toc": {
   "base_numbering": 1,
   "nav_menu": {},
   "number_sections": false,
   "sideBar": true,
   "skip_h1_title": true,
   "title_cell": "Table of Contents",
   "title_sidebar": "Contents",
   "toc_cell": false,
   "toc_position": {},
   "toc_section_display": true,
   "toc_window_display": true
  }
 },
 "nbformat": 4,
 "nbformat_minor": 2
}
