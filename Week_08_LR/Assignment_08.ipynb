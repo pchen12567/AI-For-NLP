{
 "cells": [
  {
   "cell_type": "markdown",
   "metadata": {},
   "source": [
    "## 基础概念"
   ]
  },
  {
   "cell_type": "markdown",
   "metadata": {},
   "source": [
    "1. 机器学习方法主要用在什么常见的特点下？\n",
    "\n",
    "    - 海量数据，无法人工识别或耗时巨大\n",
    "    - 数据间关系复杂，无法人工进行判断"
   ]
  },
  {
   "cell_type": "markdown",
   "metadata": {},
   "source": [
    "2. 提出 3 个你认为使用了机器学习方法的现实场景.\n",
    "\n",
    "    - 广告推荐\n",
    "    - 股市价格预测\n",
    "    - 智能对话机器人"
   ]
  },
  {
   "cell_type": "markdown",
   "metadata": {},
   "source": [
    "3. 提出 3 个你认为可以使用机器学习但是还没有使用机器学习方法的场景.\n",
    "\n",
    "    - 自动编程\n",
    "    - 自动建筑设计\n",
    "    - 疾病自动诊断"
   ]
  },
  {
   "cell_type": "markdown",
   "metadata": {},
   "source": [
    "4. 什么是“模型”？ 为什么说“All models are wrong, but some useful”.\n",
    "\n",
    "    - 模型就是对现实中的问题的进行高度抽象和概括。\n",
    "    - 模型只能在已有数据的基础上经过训练得到结果，并不能完全匹配所有的问题，只是在某些特定的情况下能得到比较好的预测结果。"
   ]
  },
  {
   "cell_type": "markdown",
   "metadata": {},
   "source": [
    "5. Classification 和 Regression主要针对什么？ 有什么区别？\n",
    "\n",
    "    - Classification 主要用于分类，适用于特征是离散型数据, 结果通常是为了得到一个决策面，模型的评价方法通常使用正确率作为指标。\n",
    "    - Regression 主要用于预测，适用于特征是连续型数据，结果通常是为了得到一个最优拟合线，模型的评价方法通常使用决定系数$R^2$作为指标。"
   ]
  },
  {
   "cell_type": "markdown",
   "metadata": {},
   "source": [
    "6. precision， recall，f1, auc 分别是什么意思？ 假设一个城市有 10000 人，有 30 个犯罪分子，警察抓到了 35 个人，其中 20 个是犯罪分子，请问这个警察的 precision, recall, f1,auc 分别是什么？\n",
    "\n",
    "    - Precision: 精确率, $\\frac{TP}{TP + FP}$ , 表示在所有预测值为正的样本中预测正确的比例。\n",
    "    - Recall: 召回率, $\\frac{TP}{TP + FN}$, 表示在所有真实值为正的样本中，预测正确的比例。\n",
    "    - F1: 同时考虑召回率和精确率。 $ F_1 = 2 * \\frac{precision  *  recall}{precision + recall} $ \n",
    "    - AUC: ROC曲线下的面积。\n",
    "    - TP=20, FP=15, FN=10, TN=9955, \n",
    "    $precision=\\frac{20}{20+15}=0.57$, $recall=\\frac{20}{20+10}=0.67$, $F1=2 * \\frac{0.56 * 0.67}{0.57 + 0.67}=0.61$"
   ]
  },
  {
   "cell_type": "markdown",
   "metadata": {},
   "source": [
    "7. 请提出两种场景，第一种场景下，对模型的评估很注重 precision, 第二种很注重 recall.\n",
    "\n",
    "    - 精确率适用于找的对不对\n",
    "    - 召回率适用于找的全不全"
   ]
  },
  {
   "cell_type": "markdown",
   "metadata": {},
   "source": [
    "8. 什么是 Overfitting， 什么是 Underfitting?\n",
    "\n",
    "    - Overfitting: 过拟合，模型过度复杂，过度匹配训练数据，训练数据过少，缺乏泛化能力\n",
    "    - Underfitting: 欠拟合，模型复杂度过低，训练误差太大"
   ]
  },
  {
   "cell_type": "markdown",
   "metadata": {},
   "source": [
    "9. Lazy-Learning， Lazy在哪里？\n",
    "    \n",
    "    - 计算过程简单，比如KNN"
   ]
  },
  {
   "cell_type": "markdown",
   "metadata": {},
   "source": [
    "10. Median， Mode， Mean分别是什么？ 有什么意义？\n",
    "    \n",
    "    - Median: 中位数\n",
    "    - Mode：众数\n",
    "    - Mean：平均数"
   ]
  },
  {
   "cell_type": "markdown",
   "metadata": {},
   "source": [
    "11. Outlier（异常值、离群值）是什么？ 如何定义？\n",
    "\n",
    "    - Outlier 异常值，一般取IQR（高四分位数与低四分位数的差值）的1.5倍。"
   ]
  },
  {
   "cell_type": "markdown",
   "metadata": {},
   "source": [
    "12. Bias 和 Variance 有什么关系？ 他们之间为什么是一种 tradeoff 的？"
   ]
  },
  {
   "cell_type": "markdown",
   "metadata": {},
   "source": [
    "13. Train，Validation，Test 数据集之间是什么关系？ 为什么要这么划分？\n",
    "    \n",
    "    - 训练集用来估计模型或确定模型参数的，验证集用来确定网络结构或者控制模型复杂程度的参数的，即模型的最终优化及确定的，而测试集则检验最终选择最优的模型的性能如何。\n",
    "    - 训练集和验证集数据均是同一对象的数据，但是测试集，需要用跨对象的数据来验证模型的稳定性。"
   ]
  },
  {
   "cell_type": "markdown",
   "metadata": {},
   "source": [
    "14. Supervised Learning 的 Supervised 体现在什么地方？\n",
    "\n",
    "    - 体现在给定了训练数据的标签"
   ]
  },
  {
   "cell_type": "markdown",
   "metadata": {},
   "source": [
    "15. Linear Regression 中，什么是“线性关系”？"
   ]
  },
  {
   "cell_type": "markdown",
   "metadata": {},
   "source": [
    "16. Linear Regression中，Loss 函数怎么定义的？ 为什么要写成这样？ 什么是凸函数？ 优化中有什么意义？"
   ]
  },
  {
   "cell_type": "markdown",
   "metadata": {},
   "source": [
    "17. 简述Gradient Descent的过程，以 $y = -10 * x^2 + 3x + 4 $ 为例，从一个任一点 $ x = 10 $ 开始，如果根据 Gradient Descent 找到最值。"
   ]
  },
  {
   "cell_type": "markdown",
   "metadata": {},
   "source": [
    "18. 一般在机器学习数量时，会做一个预处理（Normalization）， 简述 Normalization 的过程，以及数据经过 Normalization之后的平均值和标准差的情况。"
   ]
  },
  {
   "cell_type": "markdown",
   "metadata": {},
   "source": [
    "19. Logstic Regression 的 Logstic 是什么曲线，被用在什么地方？"
   ]
  },
  {
   "cell_type": "markdown",
   "metadata": {},
   "source": [
    "20. Logstic Regression 的 Loss 函数 Cross Entropy 是怎么样的形式？ 有什么意义？"
   ]
  },
  {
   "cell_type": "markdown",
   "metadata": {},
   "source": [
    "## 实战：新华社抄袭文本判断"
   ]
  },
  {
   "cell_type": "markdown",
   "metadata": {},
   "source": [
    "问题描述：\n",
    "\n",
    "在新闻出版业中一个常常的问题就是新闻版权抄袭，为了避免这种情况，需要建立一个模型，判断这个文章是不是由某个新闻出版单位出版的。\n",
    "\n",
    "在这个问题里，需要建立一个模型，该模型接受一个作为文本的输入，然后判断该文本是不是由“新华社”发布的。"
   ]
  },
  {
   "cell_type": "markdown",
   "metadata": {},
   "source": [
    "1. 为什么此问题应该用机器学习方法？\n",
    "    \n",
    "    - 此问题是一个典型的二分类问题\n",
    "    - 人工无法直接识别\n",
    "    - 涉及大量新闻文本"
   ]
  },
  {
   "cell_type": "markdown",
   "metadata": {},
   "source": [
    "2. 为什么要对文本进行向量化？ 如何进行文本向量化表示？\n",
    "\n",
    "    - 只有进行向量化后，机器才能进行计算，否则无法根据纯文本进行计算。\n",
    "    - 使用词向量或者TFIDF"
   ]
  }
 ],
 "metadata": {
  "hide_input": false,
  "kernelspec": {
   "display_name": "Python 3",
   "language": "python",
   "name": "python3"
  },
  "language_info": {
   "codemirror_mode": {
    "name": "ipython",
    "version": 3
   },
   "file_extension": ".py",
   "mimetype": "text/x-python",
   "name": "python",
   "nbconvert_exporter": "python",
   "pygments_lexer": "ipython3",
   "version": "3.6.2"
  },
  "toc": {
   "base_numbering": 1,
   "nav_menu": {},
   "number_sections": false,
   "sideBar": true,
   "skip_h1_title": true,
   "title_cell": "Table of Contents",
   "title_sidebar": "Contents",
   "toc_cell": false,
   "toc_position": {},
   "toc_section_display": true,
   "toc_window_display": false
  },
  "varInspector": {
   "cols": {
    "lenName": 16,
    "lenType": 16,
    "lenVar": 40
   },
   "kernels_config": {
    "python": {
     "delete_cmd_postfix": "",
     "delete_cmd_prefix": "del ",
     "library": "var_list.py",
     "varRefreshCmd": "print(var_dic_list())"
    },
    "r": {
     "delete_cmd_postfix": ") ",
     "delete_cmd_prefix": "rm(",
     "library": "var_list.r",
     "varRefreshCmd": "cat(var_dic_list()) "
    }
   },
   "types_to_exclude": [
    "module",
    "function",
    "builtin_function_or_method",
    "instance",
    "_Feature"
   ],
   "window_display": false
  }
 },
 "nbformat": 4,
 "nbformat_minor": 2
}
