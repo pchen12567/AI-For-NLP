{
 "cells": [
  {
   "cell_type": "markdown",
   "metadata": {},
   "source": [
    "## 基础概念"
   ]
  },
  {
   "cell_type": "markdown",
   "metadata": {},
   "source": [
    "1. 机器学习方法主要用在什么常见的特点下？\n",
    "\n",
    "    - 海量数据，无法人工识别或耗时巨大\n",
    "    - 数据间关系复杂，无法人工进行判断"
   ]
  },
  {
   "cell_type": "markdown",
   "metadata": {},
   "source": [
    "2. 提出 3 个你认为使用了机器学习方法的现实场景.\n",
    "\n",
    "    - 广告推荐\n",
    "    - 股市价格预测\n",
    "    - 智能对话机器人"
   ]
  },
  {
   "cell_type": "markdown",
   "metadata": {},
   "source": [
    "3. 提出 3 个你认为可以使用机器学习但是还没有使用机器学习方法的场景.\n",
    "\n",
    "    - 自动编程\n",
    "    - 自动建筑设计\n",
    "    - 疾病自动诊断"
   ]
  },
  {
   "cell_type": "markdown",
   "metadata": {},
   "source": [
    "4. 什么是“模型”？ 为什么说“All models are wrong, but some useful”.\n",
    "\n",
    "    - 模型就是对现实中的问题的进行高度抽象和概括。\n",
    "    - 模型只能在已有数据的基础上经过训练得到结果，并不能完全匹配所有的问题，只是在某些特定的情况下能得到比较好的预测结果。"
   ]
  },
  {
   "cell_type": "markdown",
   "metadata": {},
   "source": [
    "5. Classification 和 Regression主要针对什么？ 有什么区别？\n",
    "\n",
    "    - Classification 主要用于分类，适用于特征是离散型数据, 结果通常是为了得到一个决策面，模型的评价方法通常使用正确率作为指标。\n",
    "    - Regression 主要用于预测，适用于特征是连续型数据，结果通常是为了得到一个最优拟合线，模型的评价方法通常使用决定系数$R^2$作为指标。"
   ]
  },
  {
   "cell_type": "markdown",
   "metadata": {},
   "source": [
    "6. precision， recall，f1, auc 分别是什么意思？ 假设一个城市有 10000 人，有 30 个犯罪分子，警察抓到了 35 个人，其中 20 个是犯罪分子，请问这个警察的 precision, recall, f1,auc 分别是什么？\n",
    "\n",
    "    - Precision: 精确率, $\\frac{TP}{TP + FP}$ , 表示在所有预测值为正的样本中预测正确的比例。\n",
    "    - Recall: 召回率, $\\frac{TP}{TP + FN}$, 表示在所有真实值为正的样本中，预测正确的比例。\n",
    "    - F1: 同时考虑召回率和精确率。 $ F_1 = 2 * \\frac{precision  *  recall}{precision + recall} $ \n",
    "    - AUC: ROC曲线下的面积。\n",
    "    - TP=20, FP=15, FN=10, TN=9955, \n",
    "    $precision=\\frac{20}{20+15}=0.57$, $recall=\\frac{20}{20+10}=0.67$, $F1=2 * \\frac{0.56 * 0.67}{0.57 + 0.67}=0.61$"
   ]
  },
  {
   "cell_type": "markdown",
   "metadata": {},
   "source": [
    "7. 请提出两种场景，第一种场景下，对模型的评估很注重 precision, 第二种很注重 recall.\n",
    "\n",
    "    - 精确率适用于找的对不对\n",
    "    - 召回率适用于找的全不全"
   ]
  },
  {
   "cell_type": "markdown",
   "metadata": {},
   "source": [
    "8. 什么是 Overfitting， 什么是 Underfitting?\n",
    "\n",
    "    - Overfitting: 过拟合，模型过度复杂，过度匹配训练数据，训练数据过少，缺乏泛化能力\n",
    "    - Underfitting: 欠拟合，模型复杂度过低，训练误差太大"
   ]
  },
  {
   "cell_type": "markdown",
   "metadata": {},
   "source": [
    "9. Lazy-Learning， Lazy在哪里？\n",
    "    \n",
    "    - 计算过程简单，比如KNN"
   ]
  },
  {
   "cell_type": "markdown",
   "metadata": {},
   "source": [
    "10. Median， Mode， Mean分别是什么？ 有什么意义？\n",
    "    \n",
    "    - Median: 中位数\n",
    "    - Mode：众数\n",
    "    - Mean：平均数"
   ]
  },
  {
   "cell_type": "markdown",
   "metadata": {},
   "source": [
    "11. Outlier（异常值、离群值）是什么？ 如何定义？\n",
    "\n",
    "    - Outlier 异常值，一般取IQR（高四分位数与低四分位数的差值）的1.5倍。"
   ]
  },
  {
   "cell_type": "markdown",
   "metadata": {},
   "source": [
    "12. Bias 和 Variance 有什么关系？ 他们之间为什么是一种 tradeoff 的？"
   ]
  },
  {
   "cell_type": "markdown",
   "metadata": {},
   "source": [
    "13. Train，Validation，Test 数据集之间是什么关系？ 为什么要这么划分？\n",
    "    \n",
    "    - 训练集用来估计模型或确定模型参数的，验证集用来确定网络结构或者控制模型复杂程度的参数的，即模型的最终优化及确定的，而测试集则检验最终选择最优的模型的性能如何。\n",
    "    - 训练集和验证集数据均是同一对象的数据，但是测试集，需要用跨对象的数据来验证模型的稳定性。"
   ]
  },
  {
   "cell_type": "markdown",
   "metadata": {},
   "source": [
    "14. Supervised Learning 的 Supervised 体现在什么地方？\n",
    "\n",
    "    - 体现在给定了训练数据的标签"
   ]
  },
  {
   "cell_type": "markdown",
   "metadata": {},
   "source": [
    "15. Linear Regression 中，什么是“线性关系”？"
   ]
  },
  {
   "cell_type": "markdown",
   "metadata": {},
   "source": [
    "16. Linear Regression中，Loss 函数怎么定义的？ 为什么要写成这样？ 什么是凸函数？ 优化中有什么意义？"
   ]
  },
  {
   "cell_type": "markdown",
   "metadata": {},
   "source": [
    "17. 简述Gradient Descent的过程，以 $y = -10 * x^2 + 3x + 4 $ 为例，从一个任一点 $ x = 10 $ 开始，如果根据 Gradient Descent 找到最值。"
   ]
  },
  {
   "cell_type": "markdown",
   "metadata": {},
   "source": [
    "18. 一般在机器学习数量时，会做一个预处理（Normalization）， 简述 Normalization 的过程，以及数据经过 Normalization之后的平均值和标准差的情况。"
   ]
  },
  {
   "cell_type": "markdown",
   "metadata": {},
   "source": [
    "19. Logstic Regression 的 Logstic 是什么曲线，被用在什么地方？"
   ]
  },
  {
   "cell_type": "markdown",
   "metadata": {},
   "source": [
    "20. Logstic Regression 的 Loss 函数 Cross Entropy 是怎么样的形式？ 有什么意义？"
   ]
  },
  {
   "cell_type": "markdown",
   "metadata": {},
   "source": [
    "## 实战：新华社抄袭文本判断"
   ]
  },
  {
   "cell_type": "markdown",
   "metadata": {},
   "source": [
    "问题描述：\n",
    "\n",
    "在新闻出版业中一个常常的问题就是新闻版权抄袭，为了避免这种情况，需要建立一个模型，判断这个文章是不是由某个新闻出版单位出版的。\n",
    "\n",
    "在这个问题里，需要建立一个模型，该模型接受一个作为文本的输入，然后判断该文本是不是由“新华社”发布的。"
   ]
  },
  {
   "cell_type": "markdown",
   "metadata": {},
   "source": [
    "1. 为什么此问题应该用机器学习方法？\n",
    "    \n",
    "    - 此问题是一个典型的二分类问题\n",
    "    - 人工无法直接识别\n",
    "    - 涉及大量新闻文本"
   ]
  },
  {
   "cell_type": "markdown",
   "metadata": {},
   "source": [
    "2. 为什么要对文本进行向量化？ 如何进行文本向量化表示？\n",
    "\n",
    "    - 只有进行向量化后，机器才能进行计算，否则无法根据纯文本进行计算。\n",
    "    - 使用词向量或者TFIDF"
   ]
  },
  {
   "cell_type": "markdown",
   "metadata": {},
   "source": [
    "### Load data"
   ]
  },
  {
   "cell_type": "code",
   "execution_count": 1,
   "metadata": {
    "ExecuteTime": {
     "end_time": "2019-06-08T00:40:15.871313Z",
     "start_time": "2019-06-08T00:40:15.116309Z"
    }
   },
   "outputs": [],
   "source": [
    "import pandas as pd\n",
    "import numpy as np"
   ]
  },
  {
   "cell_type": "code",
   "execution_count": 2,
   "metadata": {
    "ExecuteTime": {
     "end_time": "2019-06-08T00:40:16.000572Z",
     "start_time": "2019-06-08T00:40:15.997666Z"
    }
   },
   "outputs": [],
   "source": [
    "# Set source path\n",
    "news_path = './data/sqlResult.csv'"
   ]
  },
  {
   "cell_type": "code",
   "execution_count": 3,
   "metadata": {
    "ExecuteTime": {
     "end_time": "2019-06-08T00:40:19.059277Z",
     "start_time": "2019-06-08T00:40:16.092680Z"
    }
   },
   "outputs": [
    {
     "data": {
      "text/html": [
       "<div>\n",
       "<style scoped>\n",
       "    .dataframe tbody tr th:only-of-type {\n",
       "        vertical-align: middle;\n",
       "    }\n",
       "\n",
       "    .dataframe tbody tr th {\n",
       "        vertical-align: top;\n",
       "    }\n",
       "\n",
       "    .dataframe thead th {\n",
       "        text-align: right;\n",
       "    }\n",
       "</style>\n",
       "<table border=\"1\" class=\"dataframe\">\n",
       "  <thead>\n",
       "    <tr style=\"text-align: right;\">\n",
       "      <th></th>\n",
       "      <th>id</th>\n",
       "      <th>author</th>\n",
       "      <th>source</th>\n",
       "      <th>content</th>\n",
       "      <th>feature</th>\n",
       "      <th>title</th>\n",
       "      <th>url</th>\n",
       "    </tr>\n",
       "  </thead>\n",
       "  <tbody>\n",
       "    <tr>\n",
       "      <th>0</th>\n",
       "      <td>89617</td>\n",
       "      <td>NaN</td>\n",
       "      <td>快科技@http://www.kkj.cn/</td>\n",
       "      <td>此外，自本周（6月12日）起，除小米手机6等15款机型外，其余机型已暂停更新发布（含开发版/...</td>\n",
       "      <td>{\"type\":\"科技\",\"site\":\"cnbeta\",\"commentNum\":\"37\"...</td>\n",
       "      <td>小米MIUI 9首批机型曝光：共计15款</td>\n",
       "      <td>http://www.cnbeta.com/articles/tech/623597.htm</td>\n",
       "    </tr>\n",
       "    <tr>\n",
       "      <th>1</th>\n",
       "      <td>89616</td>\n",
       "      <td>NaN</td>\n",
       "      <td>快科技@http://www.kkj.cn/</td>\n",
       "      <td>骁龙835作为唯一通过Windows 10桌面平台认证的ARM处理器，高通强调，不会因为只考...</td>\n",
       "      <td>{\"type\":\"科技\",\"site\":\"cnbeta\",\"commentNum\":\"15\"...</td>\n",
       "      <td>骁龙835在Windows 10上的性能表现有望改善</td>\n",
       "      <td>http://www.cnbeta.com/articles/tech/623599.htm</td>\n",
       "    </tr>\n",
       "    <tr>\n",
       "      <th>2</th>\n",
       "      <td>89615</td>\n",
       "      <td>NaN</td>\n",
       "      <td>快科技@http://www.kkj.cn/</td>\n",
       "      <td>此前的一加3T搭载的是3400mAh电池，DashCharge快充规格为5V/4A。\\r\\n...</td>\n",
       "      <td>{\"type\":\"科技\",\"site\":\"cnbeta\",\"commentNum\":\"18\"...</td>\n",
       "      <td>一加手机5细节曝光：3300mAh、充半小时用1天</td>\n",
       "      <td>http://www.cnbeta.com/articles/tech/623601.htm</td>\n",
       "    </tr>\n",
       "    <tr>\n",
       "      <th>3</th>\n",
       "      <td>89614</td>\n",
       "      <td>NaN</td>\n",
       "      <td>新华社</td>\n",
       "      <td>这是6月18日在葡萄牙中部大佩德罗冈地区拍摄的被森林大火烧毁的汽车。新华社记者张立云摄\\r\\n</td>\n",
       "      <td>{\"type\":\"国际新闻\",\"site\":\"环球\",\"commentNum\":\"0\",\"j...</td>\n",
       "      <td>葡森林火灾造成至少62人死亡 政府宣布进入紧急状态（组图）</td>\n",
       "      <td>http://world.huanqiu.com/hot/2017-06/10866126....</td>\n",
       "    </tr>\n",
       "    <tr>\n",
       "      <th>4</th>\n",
       "      <td>89613</td>\n",
       "      <td>胡淑丽_MN7479</td>\n",
       "      <td>深圳大件事</td>\n",
       "      <td>（原标题：44岁女子跑深圳约会网友被拒，暴雨中裸身奔走……）\\r\\n@深圳交警微博称：昨日清...</td>\n",
       "      <td>{\"type\":\"新闻\",\"site\":\"网易热门\",\"commentNum\":\"978\",...</td>\n",
       "      <td>44岁女子约网友被拒暴雨中裸奔 交警为其披衣相随</td>\n",
       "      <td>http://news.163.com/17/0618/00/CN617P3Q0001875...</td>\n",
       "    </tr>\n",
       "  </tbody>\n",
       "</table>\n",
       "</div>"
      ],
      "text/plain": [
       "      id      author                  source  \\\n",
       "0  89617         NaN  快科技@http://www.kkj.cn/   \n",
       "1  89616         NaN  快科技@http://www.kkj.cn/   \n",
       "2  89615         NaN  快科技@http://www.kkj.cn/   \n",
       "3  89614         NaN                     新华社   \n",
       "4  89613  胡淑丽_MN7479                   深圳大件事   \n",
       "\n",
       "                                             content  \\\n",
       "0  此外，自本周（6月12日）起，除小米手机6等15款机型外，其余机型已暂停更新发布（含开发版/...   \n",
       "1  骁龙835作为唯一通过Windows 10桌面平台认证的ARM处理器，高通强调，不会因为只考...   \n",
       "2  此前的一加3T搭载的是3400mAh电池，DashCharge快充规格为5V/4A。\\r\\n...   \n",
       "3    这是6月18日在葡萄牙中部大佩德罗冈地区拍摄的被森林大火烧毁的汽车。新华社记者张立云摄\\r\\n   \n",
       "4  （原标题：44岁女子跑深圳约会网友被拒，暴雨中裸身奔走……）\\r\\n@深圳交警微博称：昨日清...   \n",
       "\n",
       "                                             feature  \\\n",
       "0  {\"type\":\"科技\",\"site\":\"cnbeta\",\"commentNum\":\"37\"...   \n",
       "1  {\"type\":\"科技\",\"site\":\"cnbeta\",\"commentNum\":\"15\"...   \n",
       "2  {\"type\":\"科技\",\"site\":\"cnbeta\",\"commentNum\":\"18\"...   \n",
       "3  {\"type\":\"国际新闻\",\"site\":\"环球\",\"commentNum\":\"0\",\"j...   \n",
       "4  {\"type\":\"新闻\",\"site\":\"网易热门\",\"commentNum\":\"978\",...   \n",
       "\n",
       "                           title  \\\n",
       "0           小米MIUI 9首批机型曝光：共计15款   \n",
       "1     骁龙835在Windows 10上的性能表现有望改善   \n",
       "2      一加手机5细节曝光：3300mAh、充半小时用1天   \n",
       "3  葡森林火灾造成至少62人死亡 政府宣布进入紧急状态（组图）   \n",
       "4       44岁女子约网友被拒暴雨中裸奔 交警为其披衣相随   \n",
       "\n",
       "                                                 url  \n",
       "0     http://www.cnbeta.com/articles/tech/623597.htm  \n",
       "1     http://www.cnbeta.com/articles/tech/623599.htm  \n",
       "2     http://www.cnbeta.com/articles/tech/623601.htm  \n",
       "3  http://world.huanqiu.com/hot/2017-06/10866126....  \n",
       "4  http://news.163.com/17/0618/00/CN617P3Q0001875...  "
      ]
     },
     "execution_count": 3,
     "metadata": {},
     "output_type": "execute_result"
    }
   ],
   "source": [
    "# Load file\n",
    "df = pd.read_csv(news_path, encoding = 'gb18030')\n",
    "df.head()"
   ]
  },
  {
   "cell_type": "markdown",
   "metadata": {},
   "source": [
    "### Pre_processing"
   ]
  },
  {
   "cell_type": "code",
   "execution_count": 4,
   "metadata": {
    "ExecuteTime": {
     "end_time": "2019-06-08T00:40:19.498961Z",
     "start_time": "2019-06-08T00:40:19.422523Z"
    }
   },
   "outputs": [
    {
     "name": "stdout",
     "output_type": "stream",
     "text": [
      "<class 'pandas.core.frame.DataFrame'>\n",
      "RangeIndex: 89611 entries, 0 to 89610\n",
      "Data columns (total 7 columns):\n",
      "id         89611 non-null int64\n",
      "author     79396 non-null object\n",
      "source     89609 non-null object\n",
      "content    87054 non-null object\n",
      "feature    89611 non-null object\n",
      "title      89577 non-null object\n",
      "url        87144 non-null object\n",
      "dtypes: int64(1), object(6)\n",
      "memory usage: 4.8+ MB\n"
     ]
    }
   ],
   "source": [
    "# View infomation\n",
    "df.info()"
   ]
  },
  {
   "cell_type": "code",
   "execution_count": 5,
   "metadata": {
    "ExecuteTime": {
     "end_time": "2019-06-08T00:40:19.905531Z",
     "start_time": "2019-06-08T00:40:19.848099Z"
    }
   },
   "outputs": [],
   "source": [
    "# Drop news which content or source is empty\n",
    "df = df.dropna(subset=['source', 'content'])"
   ]
  },
  {
   "cell_type": "code",
   "execution_count": 6,
   "metadata": {
    "ExecuteTime": {
     "end_time": "2019-06-08T00:40:20.374956Z",
     "start_time": "2019-06-08T00:40:20.263592Z"
    }
   },
   "outputs": [],
   "source": [
    "# fill other empty values with ''\n",
    "df = df.fillna('')"
   ]
  },
  {
   "cell_type": "code",
   "execution_count": 7,
   "metadata": {
    "ExecuteTime": {
     "end_time": "2019-06-08T00:40:20.743367Z",
     "start_time": "2019-06-08T00:40:20.677804Z"
    }
   },
   "outputs": [
    {
     "name": "stdout",
     "output_type": "stream",
     "text": [
      "<class 'pandas.core.frame.DataFrame'>\n",
      "Int64Index: 87052 entries, 0 to 89610\n",
      "Data columns (total 7 columns):\n",
      "id         87052 non-null int64\n",
      "author     87052 non-null object\n",
      "source     87052 non-null object\n",
      "content    87052 non-null object\n",
      "feature    87052 non-null object\n",
      "title      87052 non-null object\n",
      "url        87052 non-null object\n",
      "dtypes: int64(1), object(6)\n",
      "memory usage: 5.3+ MB\n"
     ]
    }
   ],
   "source": [
    "df.info()"
   ]
  },
  {
   "cell_type": "code",
   "execution_count": 8,
   "metadata": {
    "ExecuteTime": {
     "end_time": "2019-06-08T00:40:21.135618Z",
     "start_time": "2019-06-08T00:40:21.058545Z"
    }
   },
   "outputs": [
    {
     "data": {
      "text/plain": [
       "78855"
      ]
     },
     "execution_count": 8,
     "metadata": {},
     "output_type": "execute_result"
    }
   ],
   "source": [
    "# Check the number of news from 新华社 or 新华网\n",
    "sum(df['source'].str.contains('新华'))"
   ]
  },
  {
   "cell_type": "markdown",
   "metadata": {},
   "source": [
    "**Build function to cut words with jieba**"
   ]
  },
  {
   "cell_type": "code",
   "execution_count": 9,
   "metadata": {
    "ExecuteTime": {
     "end_time": "2019-06-08T00:40:21.753663Z",
     "start_time": "2019-06-08T00:40:21.429428Z"
    }
   },
   "outputs": [],
   "source": [
    "import re\n",
    "import jieba"
   ]
  },
  {
   "cell_type": "code",
   "execution_count": 10,
   "metadata": {
    "ExecuteTime": {
     "end_time": "2019-06-08T00:40:22.056745Z",
     "start_time": "2019-06-08T00:40:22.047003Z"
    }
   },
   "outputs": [],
   "source": [
    "def cut_content(string):\n",
    "    clean_str = ''.join(re.findall(r'[\\d|\\w]+', string))\n",
    "    return ' '.join(jieba.cut(clean_str))"
   ]
  },
  {
   "cell_type": "code",
   "execution_count": 11,
   "metadata": {
    "ExecuteTime": {
     "end_time": "2019-06-08T00:40:23.451176Z",
     "start_time": "2019-06-08T00:40:22.441576Z"
    }
   },
   "outputs": [
    {
     "name": "stderr",
     "output_type": "stream",
     "text": [
      "Building prefix dict from the default dictionary ...\n",
      "Loading model from cache /var/folders/jc/l9vx9tp979g0tm976wjrgwkr0000gn/T/jieba.cache\n",
      "Loading model cost 0.991 seconds.\n",
      "Prefix dict has been built succesfully.\n"
     ]
    },
    {
     "data": {
      "text/plain": [
       "'骁龙 835 作为 唯一 通过 Windows10 桌面 平台 认证 的 ARM 处理器 高通 强调 不会 因为 只 考虑 性能 而 去 屏蔽掉 小 核心 相反 他们 正 联手 微软 找到 一种 适合 桌面 平台 的 兼顾 性能 和 功耗 的 完美 方案 报道 称 微软 已经 拿到 了 一些 新 的 源码 以便 Windows10 更好 地 理解 biglittle 架构 资料 显示 骁龙 835 作为 一款 集成 了 CPUGPU 基带 蓝牙 WiFi 的 SoC 比 传统 的 Wintel 方案 可以 节省 至少 30 的 PCB 空间 按计划 今年 Q4 华硕 惠普 联想 将 首发 骁龙 835Win10 电脑 预计 均 是 二合一 形态 的 产品 当然 高通 骁龙 只是 个 开始 未来 也许 还 能 见到 三星 Exynos 联发科 华为 麒麟 小米 澎湃 等 进入 Windows10 桌面 平台'"
      ]
     },
     "execution_count": 11,
     "metadata": {},
     "output_type": "execute_result"
    }
   ],
   "source": [
    "# Test\n",
    "cut_content(df['content'][1])"
   ]
  },
  {
   "cell_type": "code",
   "execution_count": 12,
   "metadata": {
    "ExecuteTime": {
     "end_time": "2019-06-08T00:43:23.244287Z",
     "start_time": "2019-06-08T00:40:23.779280Z"
    }
   },
   "outputs": [],
   "source": [
    "# Add a new column to save content after cutting words\n",
    "df['content_cut'] = df['content'].apply(cut_content)"
   ]
  },
  {
   "cell_type": "code",
   "execution_count": 13,
   "metadata": {
    "ExecuteTime": {
     "end_time": "2019-06-08T00:43:23.606723Z",
     "start_time": "2019-06-08T00:43:23.596876Z"
    }
   },
   "outputs": [
    {
     "data": {
      "text/plain": [
       "0    此外 自 本周 6 月 12 日起 除 小米 手机 6 等 15 款 机型 外 其余 机型 ...\n",
       "1    骁龙 835 作为 唯一 通过 Windows10 桌面 平台 认证 的 ARM 处理器 高...\n",
       "2    此前 的 一加 3T 搭载 的 是 3400mAh 电池 DashCharge 快充 规格 ...\n",
       "3    这是 6 月 18 日 在 葡萄牙 中部 大 佩德罗 冈 地区 拍摄 的 被 森林 大火 烧...\n",
       "4    原 标题 44 岁 女子 跑 深圳 约会 网友 被 拒 暴雨 中 裸身 奔走 深圳 交警 微...\n",
       "5    受到 A股 被 纳入 MSCI 指数 的 利好 消息 刺激 A股 市场 从 周三 开始 再度...\n",
       "6    虽然 至今 夏普 智能手机 在 市场 上 无法 排得 上 号 已经 完全 没落 并于 201...\n",
       "7    沙漠 雄鹰 震荡 有利 消化 套牢 筹码 周四 开盘 上证 50 在 银行 券商 大 蓝筹 ...\n",
       "8    原 标题 武汉 警方 一下子 抓 了 808 人 还 都 是 俊男靓女 原来 他们 每天 偷...\n",
       "9    6 月 21 日 A股 纳入 MSCI 指数 尘埃落定 但 当天 被 寄予厚望 的 券商 股...\n",
       "Name: content_cut, dtype: object"
      ]
     },
     "execution_count": 13,
     "metadata": {},
     "output_type": "execute_result"
    }
   ],
   "source": [
    "# Test\n",
    "df['content_cut'][:10]"
   ]
  },
  {
   "cell_type": "code",
   "execution_count": 14,
   "metadata": {
    "ExecuteTime": {
     "end_time": "2019-06-08T00:43:49.191777Z",
     "start_time": "2019-06-08T00:43:24.028608Z"
    }
   },
   "outputs": [],
   "source": [
    "# Add label for each news, 1 for 新华社， 0 for others\n",
    "df['label'] = df['source'].apply(lambda x: 1 if any(pd.Series(x).str.contains('新华')) else 0)"
   ]
  },
  {
   "cell_type": "code",
   "execution_count": 15,
   "metadata": {
    "ExecuteTime": {
     "end_time": "2019-06-08T00:43:49.596929Z",
     "start_time": "2019-06-08T00:43:49.585782Z"
    }
   },
   "outputs": [
    {
     "data": {
      "text/plain": [
       "78855"
      ]
     },
     "execution_count": 15,
     "metadata": {},
     "output_type": "execute_result"
    }
   ],
   "source": [
    "# Check the number\n",
    "sum(df['label'] == 1)"
   ]
  },
  {
   "cell_type": "markdown",
   "metadata": {},
   "source": [
    "### Save result to new CSV file"
   ]
  },
  {
   "cell_type": "code",
   "execution_count": 16,
   "metadata": {
    "ExecuteTime": {
     "end_time": "2019-06-08T00:43:50.016076Z",
     "start_time": "2019-06-08T00:43:49.968760Z"
    }
   },
   "outputs": [],
   "source": [
    "df_news = df[['id', 'source', 'content', 'content_cut', 'label']]"
   ]
  },
  {
   "cell_type": "code",
   "execution_count": 17,
   "metadata": {
    "ExecuteTime": {
     "end_time": "2019-06-08T00:43:50.500015Z",
     "start_time": "2019-06-08T00:43:50.486329Z"
    }
   },
   "outputs": [
    {
     "data": {
      "text/html": [
       "<div>\n",
       "<style scoped>\n",
       "    .dataframe tbody tr th:only-of-type {\n",
       "        vertical-align: middle;\n",
       "    }\n",
       "\n",
       "    .dataframe tbody tr th {\n",
       "        vertical-align: top;\n",
       "    }\n",
       "\n",
       "    .dataframe thead th {\n",
       "        text-align: right;\n",
       "    }\n",
       "</style>\n",
       "<table border=\"1\" class=\"dataframe\">\n",
       "  <thead>\n",
       "    <tr style=\"text-align: right;\">\n",
       "      <th></th>\n",
       "      <th>id</th>\n",
       "      <th>source</th>\n",
       "      <th>content</th>\n",
       "      <th>content_cut</th>\n",
       "      <th>label</th>\n",
       "    </tr>\n",
       "  </thead>\n",
       "  <tbody>\n",
       "    <tr>\n",
       "      <th>0</th>\n",
       "      <td>89617</td>\n",
       "      <td>快科技@http://www.kkj.cn/</td>\n",
       "      <td>此外，自本周（6月12日）起，除小米手机6等15款机型外，其余机型已暂停更新发布（含开发版/...</td>\n",
       "      <td>此外 自 本周 6 月 12 日起 除 小米 手机 6 等 15 款 机型 外 其余 机型 ...</td>\n",
       "      <td>0</td>\n",
       "    </tr>\n",
       "    <tr>\n",
       "      <th>1</th>\n",
       "      <td>89616</td>\n",
       "      <td>快科技@http://www.kkj.cn/</td>\n",
       "      <td>骁龙835作为唯一通过Windows 10桌面平台认证的ARM处理器，高通强调，不会因为只考...</td>\n",
       "      <td>骁龙 835 作为 唯一 通过 Windows10 桌面 平台 认证 的 ARM 处理器 高...</td>\n",
       "      <td>0</td>\n",
       "    </tr>\n",
       "    <tr>\n",
       "      <th>2</th>\n",
       "      <td>89615</td>\n",
       "      <td>快科技@http://www.kkj.cn/</td>\n",
       "      <td>此前的一加3T搭载的是3400mAh电池，DashCharge快充规格为5V/4A。\\r\\n...</td>\n",
       "      <td>此前 的 一加 3T 搭载 的 是 3400mAh 电池 DashCharge 快充 规格 ...</td>\n",
       "      <td>0</td>\n",
       "    </tr>\n",
       "    <tr>\n",
       "      <th>3</th>\n",
       "      <td>89614</td>\n",
       "      <td>新华社</td>\n",
       "      <td>这是6月18日在葡萄牙中部大佩德罗冈地区拍摄的被森林大火烧毁的汽车。新华社记者张立云摄\\r\\n</td>\n",
       "      <td>这是 6 月 18 日 在 葡萄牙 中部 大 佩德罗 冈 地区 拍摄 的 被 森林 大火 烧...</td>\n",
       "      <td>1</td>\n",
       "    </tr>\n",
       "    <tr>\n",
       "      <th>4</th>\n",
       "      <td>89613</td>\n",
       "      <td>深圳大件事</td>\n",
       "      <td>（原标题：44岁女子跑深圳约会网友被拒，暴雨中裸身奔走……）\\r\\n@深圳交警微博称：昨日清...</td>\n",
       "      <td>原 标题 44 岁 女子 跑 深圳 约会 网友 被 拒 暴雨 中 裸身 奔走 深圳 交警 微...</td>\n",
       "      <td>0</td>\n",
       "    </tr>\n",
       "  </tbody>\n",
       "</table>\n",
       "</div>"
      ],
      "text/plain": [
       "      id                  source  \\\n",
       "0  89617  快科技@http://www.kkj.cn/   \n",
       "1  89616  快科技@http://www.kkj.cn/   \n",
       "2  89615  快科技@http://www.kkj.cn/   \n",
       "3  89614                     新华社   \n",
       "4  89613                   深圳大件事   \n",
       "\n",
       "                                             content  \\\n",
       "0  此外，自本周（6月12日）起，除小米手机6等15款机型外，其余机型已暂停更新发布（含开发版/...   \n",
       "1  骁龙835作为唯一通过Windows 10桌面平台认证的ARM处理器，高通强调，不会因为只考...   \n",
       "2  此前的一加3T搭载的是3400mAh电池，DashCharge快充规格为5V/4A。\\r\\n...   \n",
       "3    这是6月18日在葡萄牙中部大佩德罗冈地区拍摄的被森林大火烧毁的汽车。新华社记者张立云摄\\r\\n   \n",
       "4  （原标题：44岁女子跑深圳约会网友被拒，暴雨中裸身奔走……）\\r\\n@深圳交警微博称：昨日清...   \n",
       "\n",
       "                                         content_cut  label  \n",
       "0  此外 自 本周 6 月 12 日起 除 小米 手机 6 等 15 款 机型 外 其余 机型 ...      0  \n",
       "1  骁龙 835 作为 唯一 通过 Windows10 桌面 平台 认证 的 ARM 处理器 高...      0  \n",
       "2  此前 的 一加 3T 搭载 的 是 3400mAh 电池 DashCharge 快充 规格 ...      0  \n",
       "3  这是 6 月 18 日 在 葡萄牙 中部 大 佩德罗 冈 地区 拍摄 的 被 森林 大火 烧...      1  \n",
       "4  原 标题 44 岁 女子 跑 深圳 约会 网友 被 拒 暴雨 中 裸身 奔走 深圳 交警 微...      0  "
      ]
     },
     "execution_count": 17,
     "metadata": {},
     "output_type": "execute_result"
    }
   ],
   "source": [
    "df_news.head()"
   ]
  },
  {
   "cell_type": "code",
   "execution_count": 18,
   "metadata": {
    "ExecuteTime": {
     "end_time": "2019-06-08T00:43:53.906465Z",
     "start_time": "2019-06-08T00:43:50.990734Z"
    }
   },
   "outputs": [],
   "source": [
    "df_news.to_csv('./data/news_cut.csv', encoding='utf-8', index=False)"
   ]
  },
  {
   "cell_type": "code",
   "execution_count": 1,
   "metadata": {
    "ExecuteTime": {
     "end_time": "2019-06-08T03:23:15.287296Z",
     "start_time": "2019-06-08T03:23:10.332951Z"
    }
   },
   "outputs": [],
   "source": [
    "import pandas as pd\n",
    "import numpy as np\n",
    "\n",
    "df_news = pd.read_csv('./data/news_cut.csv')"
   ]
  },
  {
   "cell_type": "markdown",
   "metadata": {},
   "source": [
    "### Take Samples"
   ]
  },
  {
   "cell_type": "code",
   "execution_count": 2,
   "metadata": {
    "ExecuteTime": {
     "end_time": "2019-06-08T03:23:16.437175Z",
     "start_time": "2019-06-08T03:23:16.416876Z"
    }
   },
   "outputs": [
    {
     "data": {
      "text/plain": [
       "0.9058378899967835"
      ]
     },
     "execution_count": 2,
     "metadata": {},
     "output_type": "execute_result"
    }
   ],
   "source": [
    "# Check the ratio of news from 新华社\n",
    "sum(df_news['label'] == 1) / len(df_news)"
   ]
  },
  {
   "cell_type": "code",
   "execution_count": 3,
   "metadata": {
    "ExecuteTime": {
     "end_time": "2019-06-08T03:23:16.868204Z",
     "start_time": "2019-06-08T03:23:16.850991Z"
    }
   },
   "outputs": [
    {
     "data": {
      "text/plain": [
       "8197"
      ]
     },
     "execution_count": 3,
     "metadata": {},
     "output_type": "execute_result"
    }
   ],
   "source": [
    "# Check the number of negative samples\n",
    "sum(df_news['label'] == 0)"
   ]
  },
  {
   "cell_type": "markdown",
   "metadata": {},
   "source": [
    "**Implement Undersampling**"
   ]
  },
  {
   "cell_type": "code",
   "execution_count": 4,
   "metadata": {
    "ExecuteTime": {
     "end_time": "2019-06-08T03:23:18.220480Z",
     "start_time": "2019-06-08T03:23:18.195470Z"
    }
   },
   "outputs": [],
   "source": [
    "# Get positive samples\n",
    "df_pos = df_news[df_news['label'] == 1].sample(8000).reset_index(drop=True)"
   ]
  },
  {
   "cell_type": "code",
   "execution_count": 5,
   "metadata": {
    "ExecuteTime": {
     "end_time": "2019-06-08T03:23:18.570403Z",
     "start_time": "2019-06-08T03:23:18.558974Z"
    }
   },
   "outputs": [],
   "source": [
    "# Get negative samples\n",
    "df_neg = df_news[df_news['label'] == 0].sample(8000).reset_index(drop=True)"
   ]
  },
  {
   "cell_type": "code",
   "execution_count": 6,
   "metadata": {
    "ExecuteTime": {
     "end_time": "2019-06-08T03:23:19.105532Z",
     "start_time": "2019-06-08T03:23:19.097740Z"
    }
   },
   "outputs": [],
   "source": [
    "# Combine pos and neg samples\n",
    "df_sample = pd.concat([df_pos, df_neg], axis=0)"
   ]
  },
  {
   "cell_type": "markdown",
   "metadata": {},
   "source": [
    "**Shuffle the samples**"
   ]
  },
  {
   "cell_type": "code",
   "execution_count": 7,
   "metadata": {
    "ExecuteTime": {
     "end_time": "2019-06-08T03:23:20.523141Z",
     "start_time": "2019-06-08T03:23:19.940394Z"
    }
   },
   "outputs": [],
   "source": [
    "from sklearn.utils import shuffle"
   ]
  },
  {
   "cell_type": "code",
   "execution_count": 8,
   "metadata": {
    "ExecuteTime": {
     "end_time": "2019-06-08T03:23:20.721861Z",
     "start_time": "2019-06-08T03:23:20.660922Z"
    }
   },
   "outputs": [],
   "source": [
    "df_sample = shuffle(df_sample).reset_index(drop=True)"
   ]
  },
  {
   "cell_type": "code",
   "execution_count": 9,
   "metadata": {
    "ExecuteTime": {
     "end_time": "2019-06-08T03:23:20.907807Z",
     "start_time": "2019-06-08T03:23:20.888282Z"
    }
   },
   "outputs": [
    {
     "data": {
      "text/html": [
       "<div>\n",
       "<style scoped>\n",
       "    .dataframe tbody tr th:only-of-type {\n",
       "        vertical-align: middle;\n",
       "    }\n",
       "\n",
       "    .dataframe tbody tr th {\n",
       "        vertical-align: top;\n",
       "    }\n",
       "\n",
       "    .dataframe thead th {\n",
       "        text-align: right;\n",
       "    }\n",
       "</style>\n",
       "<table border=\"1\" class=\"dataframe\">\n",
       "  <thead>\n",
       "    <tr style=\"text-align: right;\">\n",
       "      <th></th>\n",
       "      <th>id</th>\n",
       "      <th>source</th>\n",
       "      <th>content</th>\n",
       "      <th>content_cut</th>\n",
       "      <th>label</th>\n",
       "    </tr>\n",
       "  </thead>\n",
       "  <tbody>\n",
       "    <tr>\n",
       "      <th>0</th>\n",
       "      <td>86158</td>\n",
       "      <td>凤凰财经WEMONEY</td>\n",
       "      <td>过去一周，全球数字资产社区惶惶不安。萧条和崩盘的阴云几乎笼罩了所有数字资产，每一种数字资产似...</td>\n",
       "      <td>过去 一周 全球 数字 资产 社区 惶惶不安 萧条 和 崩盘 的 阴云 几乎 笼罩 了 所有...</td>\n",
       "      <td>0</td>\n",
       "    </tr>\n",
       "    <tr>\n",
       "      <th>1</th>\n",
       "      <td>83154</td>\n",
       "      <td>央视网</td>\n",
       "      <td>央视网消息：22日上午，在浙江海盐县，一辆小汽车翻进了路旁的水渠中，车的上半部没入水中，车内...</td>\n",
       "      <td>央视网 消息 22 日 上午 在 浙江 海盐县 一辆 小汽车 翻进 了 路旁 的 水渠 中车...</td>\n",
       "      <td>0</td>\n",
       "    </tr>\n",
       "    <tr>\n",
       "      <th>2</th>\n",
       "      <td>84910</td>\n",
       "      <td>动漫星空@</td>\n",
       "      <td>北乃绮将加盟《银魂 三叶篇》，饰演冲田总悟的姐姐冲田三叶，除此之外电影版的演员小栗旬、柳乐优...</td>\n",
       "      <td>北乃 绮 将 加盟 银魂 三叶 篇 饰演 冲田 总悟 的 姐姐 冲田 三叶 除此之外 电影版...</td>\n",
       "      <td>0</td>\n",
       "    </tr>\n",
       "    <tr>\n",
       "      <th>3</th>\n",
       "      <td>45568</td>\n",
       "      <td>新华社</td>\n",
       "      <td>新华社照片，外代，2017年4月28日\\n（外代二线）印度火车站掠影\\n4月20日，在印度首...</td>\n",
       "      <td>新华社 照片 外代 2017 年 4 月 28 日 n 外代 二线 印度 火车站 掠影 n4...</td>\n",
       "      <td>1</td>\n",
       "    </tr>\n",
       "    <tr>\n",
       "      <th>4</th>\n",
       "      <td>39601</td>\n",
       "      <td>新华社</td>\n",
       "      <td>新华社北京５月４日电题：美俄元首通话耐人寻味\\n　　新华社记者柳丝　\\n美国总统特朗普执政以...</td>\n",
       "      <td>新华社 北京 ５ 月 ４ 日电 题美 俄 元首 通话 耐人寻味 n 新华社 记者 柳丝 n ...</td>\n",
       "      <td>1</td>\n",
       "    </tr>\n",
       "  </tbody>\n",
       "</table>\n",
       "</div>"
      ],
      "text/plain": [
       "      id       source                                            content  \\\n",
       "0  86158  凤凰财经WEMONEY  过去一周，全球数字资产社区惶惶不安。萧条和崩盘的阴云几乎笼罩了所有数字资产，每一种数字资产似...   \n",
       "1  83154          央视网  央视网消息：22日上午，在浙江海盐县，一辆小汽车翻进了路旁的水渠中，车的上半部没入水中，车内...   \n",
       "2  84910        动漫星空@  北乃绮将加盟《银魂 三叶篇》，饰演冲田总悟的姐姐冲田三叶，除此之外电影版的演员小栗旬、柳乐优...   \n",
       "3  45568          新华社  新华社照片，外代，2017年4月28日\\n（外代二线）印度火车站掠影\\n4月20日，在印度首...   \n",
       "4  39601          新华社  新华社北京５月４日电题：美俄元首通话耐人寻味\\n　　新华社记者柳丝　\\n美国总统特朗普执政以...   \n",
       "\n",
       "                                         content_cut  label  \n",
       "0  过去 一周 全球 数字 资产 社区 惶惶不安 萧条 和 崩盘 的 阴云 几乎 笼罩 了 所有...      0  \n",
       "1  央视网 消息 22 日 上午 在 浙江 海盐县 一辆 小汽车 翻进 了 路旁 的 水渠 中车...      0  \n",
       "2  北乃 绮 将 加盟 银魂 三叶 篇 饰演 冲田 总悟 的 姐姐 冲田 三叶 除此之外 电影版...      0  \n",
       "3  新华社 照片 外代 2017 年 4 月 28 日 n 外代 二线 印度 火车站 掠影 n4...      1  \n",
       "4  新华社 北京 ５ 月 ４ 日电 题美 俄 元首 通话 耐人寻味 n 新华社 记者 柳丝 n ...      1  "
      ]
     },
     "execution_count": 9,
     "metadata": {},
     "output_type": "execute_result"
    }
   ],
   "source": [
    "df_sample.head()"
   ]
  },
  {
   "cell_type": "code",
   "execution_count": 10,
   "metadata": {
    "ExecuteTime": {
     "end_time": "2019-06-08T03:23:21.634088Z",
     "start_time": "2019-06-08T03:23:21.615473Z"
    }
   },
   "outputs": [
    {
     "name": "stdout",
     "output_type": "stream",
     "text": [
      "<class 'pandas.core.frame.DataFrame'>\n",
      "RangeIndex: 16000 entries, 0 to 15999\n",
      "Data columns (total 5 columns):\n",
      "id             16000 non-null int64\n",
      "source         16000 non-null object\n",
      "content        16000 non-null object\n",
      "content_cut    15998 non-null object\n",
      "label          16000 non-null int64\n",
      "dtypes: int64(2), object(3)\n",
      "memory usage: 625.1+ KB\n"
     ]
    }
   ],
   "source": [
    "df_sample.info()"
   ]
  },
  {
   "cell_type": "markdown",
   "metadata": {},
   "source": [
    "### Build Model"
   ]
  },
  {
   "cell_type": "code",
   "execution_count": 11,
   "metadata": {
    "ExecuteTime": {
     "end_time": "2019-06-08T03:23:23.580292Z",
     "start_time": "2019-06-08T03:23:23.576326Z"
    }
   },
   "outputs": [],
   "source": [
    "# Set X and y\n",
    "y = df_sample['label']\n",
    "X = df_sample['content_cut']"
   ]
  },
  {
   "cell_type": "markdown",
   "metadata": {},
   "source": [
    "**Vectorize news with TFIDF**"
   ]
  },
  {
   "cell_type": "code",
   "execution_count": 12,
   "metadata": {
    "ExecuteTime": {
     "end_time": "2019-06-08T03:23:25.904892Z",
     "start_time": "2019-06-08T03:23:25.080251Z"
    }
   },
   "outputs": [],
   "source": [
    "from sklearn.feature_extraction.text import TfidfVectorizer"
   ]
  },
  {
   "cell_type": "code",
   "execution_count": 13,
   "metadata": {
    "ExecuteTime": {
     "end_time": "2019-06-08T03:23:26.055185Z",
     "start_time": "2019-06-08T03:23:26.047480Z"
    }
   },
   "outputs": [],
   "source": [
    "# Init vectorizer, set max_feature=30000\n",
    "vectorizer = TfidfVectorizer(max_features=30000)"
   ]
  },
  {
   "cell_type": "code",
   "execution_count": 14,
   "metadata": {
    "ExecuteTime": {
     "end_time": "2019-06-08T03:23:34.031652Z",
     "start_time": "2019-06-08T03:23:26.252543Z"
    }
   },
   "outputs": [],
   "source": [
    "# Fit\n",
    "X = vectorizer.fit_transform(X.values.astype('U'))"
   ]
  },
  {
   "cell_type": "code",
   "execution_count": 15,
   "metadata": {
    "ExecuteTime": {
     "end_time": "2019-06-08T03:23:34.317814Z",
     "start_time": "2019-06-08T03:23:34.308712Z"
    }
   },
   "outputs": [
    {
     "data": {
      "text/plain": [
       "(16000, 30000)"
      ]
     },
     "execution_count": 15,
     "metadata": {},
     "output_type": "execute_result"
    }
   ],
   "source": [
    "# Check vector result\n",
    "X.shape"
   ]
  },
  {
   "cell_type": "markdown",
   "metadata": {},
   "source": [
    "**Split data**"
   ]
  },
  {
   "cell_type": "code",
   "execution_count": 16,
   "metadata": {
    "ExecuteTime": {
     "end_time": "2019-06-08T03:23:34.581080Z",
     "start_time": "2019-06-08T03:23:34.535749Z"
    }
   },
   "outputs": [],
   "source": [
    "from sklearn.model_selection import train_test_split"
   ]
  },
  {
   "cell_type": "code",
   "execution_count": 17,
   "metadata": {
    "ExecuteTime": {
     "end_time": "2019-06-08T03:23:46.810784Z",
     "start_time": "2019-06-08T03:23:34.790670Z"
    }
   },
   "outputs": [
    {
     "name": "stdout",
     "output_type": "stream",
     "text": [
      "Total Data：16000，Train Data：12800，Test Data：3200\n"
     ]
    }
   ],
   "source": [
    "# Split data into train data and test data with ratio 4:1\n",
    "X_train, X_test, y_train, y_test = train_test_split(X.toarray(), y, test_size=0.2, random_state=1)\n",
    "print('Total Data：{}，Train Data：{}，Test Data：{}'.format(X.shape[0], len(X_train), len(X_test)))"
   ]
  },
  {
   "cell_type": "markdown",
   "metadata": {},
   "source": [
    "**Build function to get performance of model**"
   ]
  },
  {
   "cell_type": "code",
   "execution_count": 18,
   "metadata": {
    "ExecuteTime": {
     "end_time": "2019-06-08T03:23:47.054384Z",
     "start_time": "2019-06-08T03:23:47.049054Z"
    }
   },
   "outputs": [],
   "source": [
    "from sklearn.metrics import precision_score\n",
    "from sklearn.metrics import recall_score\n",
    "from sklearn.metrics import roc_auc_score"
   ]
  },
  {
   "cell_type": "code",
   "execution_count": 19,
   "metadata": {
    "ExecuteTime": {
     "end_time": "2019-06-08T03:23:47.255701Z",
     "start_time": "2019-06-08T03:23:47.249158Z"
    }
   },
   "outputs": [],
   "source": [
    "def get_performance(clf, X_test, y_test):\n",
    "    y_pred = clf.predict(X_test)\n",
    "    print('percision is: {}'.format(precision_score(y_test, y_pred)))\n",
    "    print('recall is: {}'.format(recall_score(y_test, y_pred)))\n",
    "    print('roc_auc is: {}'.format(roc_auc_score(y_test, y_pred)))"
   ]
  },
  {
   "cell_type": "markdown",
   "metadata": {},
   "source": [
    "**KNN** (skip tmp because of running too long)"
   ]
  },
  {
   "cell_type": "code",
   "execution_count": 20,
   "metadata": {
    "ExecuteTime": {
     "end_time": "2019-06-08T02:13:16.800768Z",
     "start_time": "2019-06-08T02:13:16.767088Z"
    }
   },
   "outputs": [],
   "source": [
    "from sklearn.neighbors import KNeighborsClassifier"
   ]
  },
  {
   "cell_type": "code",
   "execution_count": null,
   "metadata": {
    "ExecuteTime": {
     "start_time": "2019-06-08T00:47:22.790Z"
    }
   },
   "outputs": [],
   "source": [
    "# Init parameter K list\n",
    "neighbors = [3, 5, 7, 9]\n",
    "\n",
    "# Build model\n",
    "for k in neighbors:\n",
    "    knn_clf = KNeighborsClassifier(n_neighbors=k)\n",
    "    knn_clf.fit(X_train, y_train)\n",
    "    get_performance(knn_clf, X_test, y_test)"
   ]
  },
  {
   "cell_type": "markdown",
   "metadata": {},
   "source": [
    "**DT** (skip tmp because of running too long)"
   ]
  },
  {
   "cell_type": "code",
   "execution_count": null,
   "metadata": {
    "ExecuteTime": {
     "start_time": "2019-06-08T00:26:22.058Z"
    }
   },
   "outputs": [],
   "source": [
    "from sklearn.tree import DecisionTreeClassifier"
   ]
  },
  {
   "cell_type": "code",
   "execution_count": null,
   "metadata": {},
   "outputs": [],
   "source": [
    "# Init tree depth\n",
    "depths = [3, 5, 7, 9]\n",
    "\n",
    "# Build model \n",
    "for d in depths:\n",
    "    dt_clf = DecisionTreeClassifier(max_depth=d)\n",
    "    dt_clf.fit(X_train, y_train)\n",
    "    get_performance(dt_clf, X_test, y_test)"
   ]
  },
  {
   "cell_type": "markdown",
   "metadata": {},
   "source": [
    "**GNB**"
   ]
  },
  {
   "cell_type": "code",
   "execution_count": 22,
   "metadata": {
    "ExecuteTime": {
     "end_time": "2019-06-08T03:24:52.767913Z",
     "start_time": "2019-06-08T03:24:52.752311Z"
    }
   },
   "outputs": [],
   "source": [
    "from sklearn.naive_bayes import GaussianNB"
   ]
  },
  {
   "cell_type": "code",
   "execution_count": 22,
   "metadata": {
    "ExecuteTime": {
     "end_time": "2019-06-08T02:14:07.011713Z",
     "start_time": "2019-06-08T02:13:31.992808Z"
    }
   },
   "outputs": [
    {
     "name": "stdout",
     "output_type": "stream",
     "text": [
      "percision is: 0.934982332155477\n",
      "recall is: 0.8076923076923077\n",
      "roc_auc is: 0.8743967300305329\n"
     ]
    }
   ],
   "source": [
    "gnb_clf = GaussianNB()\n",
    "gnb_clf.fit(X_train, y_train)\n",
    "get_performance(gnb_clf, X_test, y_test)"
   ]
  },
  {
   "cell_type": "markdown",
   "metadata": {
    "ExecuteTime": {
     "end_time": "2019-06-08T00:15:38.463954Z",
     "start_time": "2019-06-08T00:13:38.317088Z"
    }
   },
   "source": [
    "**LR**"
   ]
  },
  {
   "cell_type": "code",
   "execution_count": 23,
   "metadata": {
    "ExecuteTime": {
     "end_time": "2019-06-08T03:25:33.059864Z",
     "start_time": "2019-06-08T03:25:32.769079Z"
    }
   },
   "outputs": [],
   "source": [
    "from sklearn.linear_model import LogisticRegression"
   ]
  },
  {
   "cell_type": "code",
   "execution_count": 25,
   "metadata": {
    "ExecuteTime": {
     "end_time": "2019-06-08T02:15:45.252035Z",
     "start_time": "2019-06-08T02:14:32.552908Z"
    }
   },
   "outputs": [
    {
     "name": "stdout",
     "output_type": "stream",
     "text": [
      "percision is: 0.9892255892255892\n",
      "recall is: 0.8968253968253969\n",
      "roc_auc is: 0.9432910594882425\n"
     ]
    }
   ],
   "source": [
    "lr_clf = LogisticRegression(solver='lbfgs')\n",
    "lr_clf.fit(X_train, y_train)\n",
    "get_performance(lr_clf, X_test, y_test)"
   ]
  },
  {
   "cell_type": "markdown",
   "metadata": {},
   "source": [
    "**SVM** (skip tmp because of running too long)"
   ]
  },
  {
   "cell_type": "code",
   "execution_count": 26,
   "metadata": {
    "ExecuteTime": {
     "end_time": "2019-06-08T02:45:01.516833Z",
     "start_time": "2019-06-08T02:45:01.504522Z"
    }
   },
   "outputs": [],
   "source": [
    "from sklearn.svm import SVC"
   ]
  },
  {
   "cell_type": "code",
   "execution_count": null,
   "metadata": {
    "ExecuteTime": {
     "start_time": "2019-06-08T02:45:44.657Z"
    }
   },
   "outputs": [],
   "source": [
    "svm_clf = SVC(kernel='sigmoid', gamma='auto')\n",
    "svm_clf.fit(X_train, y_train)\n",
    "get_performance(svm_clf, X_test, y_test)"
   ]
  },
  {
   "cell_type": "markdown",
   "metadata": {},
   "source": [
    "### Build function to create model with GridSearchCV"
   ]
  },
  {
   "cell_type": "code",
   "execution_count": 20,
   "metadata": {
    "ExecuteTime": {
     "end_time": "2019-06-08T03:23:47.425533Z",
     "start_time": "2019-06-08T03:23:47.422674Z"
    }
   },
   "outputs": [],
   "source": [
    "import time\n",
    "from sklearn.model_selection import GridSearchCV"
   ]
  },
  {
   "cell_type": "code",
   "execution_count": 29,
   "metadata": {
    "ExecuteTime": {
     "end_time": "2019-06-08T04:42:51.849012Z",
     "start_time": "2019-06-08T04:42:51.796504Z"
    }
   },
   "outputs": [],
   "source": [
    "def build_model(X_train, X_test, y_train, y_test, model_dict):\n",
    "    \n",
    "    gscv = {}\n",
    "    \n",
    "    for model_name, (model, param_range) in model_dict.items():\n",
    "        print('Start Training {} ...'.format(model_name))   \n",
    "        \n",
    "        # Time\n",
    "        start = time.time()\n",
    "        \n",
    "        # 5 Folder Cross Validation and Grid Search\n",
    "        clf = GridSearchCV(estimator=model,\n",
    "                      param_grid=param_range,\n",
    "                      cv=5,\n",
    "                      scoring='roc_auc',\n",
    "                      refit=True)\n",
    "    \n",
    "        clf.fit(X_train, y_train)\n",
    "        \n",
    "        end = time.time()\n",
    "        duration = end - start\n",
    "\n",
    "        get_performance(clf, X_test, y_test)\n",
    "\n",
    "        print('The best paramter：{}'.format(clf.best_params_))\n",
    "        print('Total Training Time: {:.4f}s'.format(duration))\n",
    "        print('###########################################')\n",
    "        \n",
    "        gscv[model_name] = clf\n",
    "    \n",
    "    return gscv"
   ]
  },
  {
   "cell_type": "code",
   "execution_count": 30,
   "metadata": {
    "ExecuteTime": {
     "end_time": "2019-06-08T04:42:53.102215Z",
     "start_time": "2019-06-08T04:42:53.092169Z"
    }
   },
   "outputs": [],
   "source": [
    "model_dict = {\n",
    "    'GNB': (GaussianNB(), {}),\n",
    "    'LR': (LogisticRegression(solver='lbfgs'), {})\n",
    "}"
   ]
  },
  {
   "cell_type": "code",
   "execution_count": 31,
   "metadata": {
    "ExecuteTime": {
     "end_time": "2019-06-08T04:53:07.296631Z",
     "start_time": "2019-06-08T04:42:54.204721Z"
    }
   },
   "outputs": [
    {
     "name": "stdout",
     "output_type": "stream",
     "text": [
      "Start Training GNB ...\n",
      "percision is: 0.9298866855524079\n",
      "recall is: 0.8347107438016529\n",
      "roc_auc is: 0.8869312784773478\n",
      "The best paramter：{}\n",
      "Total Training Time: 428.3557s\n",
      "###########################################\n",
      "Start Training LR ...\n",
      "percision is: 0.9903047091412742\n",
      "recall is: 0.9090909090909091\n",
      "roc_auc is: 0.9502430574956697\n",
      "The best paramter：{}\n",
      "Total Training Time: 180.6018s\n",
      "###########################################\n"
     ]
    }
   ],
   "source": [
    "gscv = build_model(X_train, X_test, y_train, y_test, model_dict)"
   ]
  },
  {
   "cell_type": "markdown",
   "metadata": {},
   "source": [
    "## Save Model"
   ]
  },
  {
   "cell_type": "code",
   "execution_count": 33,
   "metadata": {
    "ExecuteTime": {
     "end_time": "2019-06-08T04:58:25.225357Z",
     "start_time": "2019-06-08T04:58:25.220821Z"
    }
   },
   "outputs": [],
   "source": [
    "import pickle"
   ]
  },
  {
   "cell_type": "code",
   "execution_count": 34,
   "metadata": {
    "ExecuteTime": {
     "end_time": "2019-06-08T05:00:55.254831Z",
     "start_time": "2019-06-08T05:00:55.220103Z"
    }
   },
   "outputs": [],
   "source": [
    "for model_name, model in gscv.items():\n",
    "    with open(model_name + '.pkl', 'wb') as f:\n",
    "        pickle.dump(model, f)"
   ]
  }
 ],
 "metadata": {
  "hide_input": false,
  "kernelspec": {
   "display_name": "Python 3",
   "language": "python",
   "name": "python3"
  },
  "language_info": {
   "codemirror_mode": {
    "name": "ipython",
    "version": 3
   },
   "file_extension": ".py",
   "mimetype": "text/x-python",
   "name": "python",
   "nbconvert_exporter": "python",
   "pygments_lexer": "ipython3",
   "version": "3.6.2"
  },
  "toc": {
   "base_numbering": 1,
   "nav_menu": {},
   "number_sections": false,
   "sideBar": true,
   "skip_h1_title": true,
   "title_cell": "Table of Contents",
   "title_sidebar": "Contents",
   "toc_cell": false,
   "toc_position": {},
   "toc_section_display": true,
   "toc_window_display": false
  },
  "varInspector": {
   "cols": {
    "lenName": 16,
    "lenType": 16,
    "lenVar": 40
   },
   "kernels_config": {
    "python": {
     "delete_cmd_postfix": "",
     "delete_cmd_prefix": "del ",
     "library": "var_list.py",
     "varRefreshCmd": "print(var_dic_list())"
    },
    "r": {
     "delete_cmd_postfix": ") ",
     "delete_cmd_prefix": "rm(",
     "library": "var_list.r",
     "varRefreshCmd": "cat(var_dic_list()) "
    }
   },
   "types_to_exclude": [
    "module",
    "function",
    "builtin_function_or_method",
    "instance",
    "_Feature"
   ],
   "window_display": false
  }
 },
 "nbformat": 4,
 "nbformat_minor": 2
}
